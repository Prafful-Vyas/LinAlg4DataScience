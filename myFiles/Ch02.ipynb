{
 "cells": [
  {
   "cell_type": "code",
   "execution_count": 10,
   "metadata": {},
   "outputs": [],
   "source": [
    "import numpy as np"
   ]
  },
  {
   "cell_type": "code",
   "execution_count": 11,
   "metadata": {},
   "outputs": [],
   "source": [
    "asList = [1,2,3]\n",
    "asArray = np.array([1,2,3]) # 1D array\n",
    "rowVec = np.array([[1,2,3]]) # row\n",
    "colVec = np.array([[1],[2],[3]]) # column"
   ]
  },
  {
   "cell_type": "code",
   "execution_count": 12,
   "metadata": {},
   "outputs": [
    {
     "name": "stdout",
     "output_type": "stream",
     "text": [
      "asList: (3,)\n",
      "asArray: (3,)\n",
      "rowVec: (1, 3)\n",
      "colVec: (3, 1)\n"
     ]
    }
   ],
   "source": [
    "print(f'asList: {np.shape(asList)}')\n",
    "print(f'asArray: {asArray.shape}')\n",
    "print(f'rowVec: {rowVec.shape}')\n",
    "print(f'colVec: {colVec.shape}')"
   ]
  },
  {
   "cell_type": "code",
   "execution_count": 13,
   "metadata": {},
   "outputs": [
    {
     "ename": "ValueError",
     "evalue": "operands could not be broadcast together with shapes (4,) (3,) ",
     "output_type": "error",
     "traceback": [
      "\u001b[0;31m---------------------------------------------------------------------------\u001b[0m",
      "\u001b[0;31mValueError\u001b[0m                                Traceback (most recent call last)",
      "Cell \u001b[0;32mIn[13], line 5\u001b[0m\n\u001b[1;32m      3\u001b[0m u \u001b[38;5;241m=\u001b[39m np\u001b[38;5;241m.\u001b[39marray([\u001b[38;5;241m0\u001b[39m,\u001b[38;5;241m3\u001b[39m,\u001b[38;5;241m6\u001b[39m,\u001b[38;5;241m9\u001b[39m])\n\u001b[1;32m      4\u001b[0m vPlusW \u001b[38;5;241m=\u001b[39m v \u001b[38;5;241m+\u001b[39m w\n\u001b[0;32m----> 5\u001b[0m uPlusW \u001b[38;5;241m=\u001b[39m \u001b[43mu\u001b[49m\u001b[43m \u001b[49m\u001b[38;5;241;43m+\u001b[39;49m\u001b[43m \u001b[49m\u001b[43mw\u001b[49m  \u001b[38;5;66;03m# error! dimensions mismatched!\u001b[39;00m\n",
      "\u001b[0;31mValueError\u001b[0m: operands could not be broadcast together with shapes (4,) (3,) "
     ]
    }
   ],
   "source": [
    "v = np.array([4,5,6])\n",
    "w = np.array([10,20,30])\n",
    "u = np.array([0,3,6,9])\n",
    "vPlusW = v + w\n",
    "uPlusW = u + w  # error! dimensions mismatched!"
   ]
  },
  {
   "cell_type": "code",
   "execution_count": null,
   "metadata": {},
   "outputs": [
    {
     "data": {
      "text/plain": [
       "array([[14, 15, 16],\n",
       "       [24, 25, 26],\n",
       "       [34, 35, 36]])"
      ]
     },
     "execution_count": 5,
     "metadata": {},
     "output_type": "execute_result"
    }
   ],
   "source": [
    "# can you add a row vector to a column vector\n",
    "v = np.array([[4,5,6]]) # row vector\n",
    "w = np.array([[10,20,30]]).T # column vector\n",
    "v + w"
   ]
  },
  {
   "cell_type": "markdown",
   "metadata": {},
   "source": [
    "Here, Python is implementing an operation called broadcasting."
   ]
  },
  {
   "cell_type": "code",
   "execution_count": null,
   "metadata": {},
   "outputs": [
    {
     "name": "stdout",
     "output_type": "stream",
     "text": [
      "[3, 4, 5, 3, 4, 5]\n",
      "[ 6  8 10]\n"
     ]
    }
   ],
   "source": [
    "# vector-scalar multiplication\n",
    "s = 2\n",
    "a = [3,4,5] # as list\n",
    "b = np.array(a) # as np array\n",
    "print(a*s)\n",
    "print(b*s)"
   ]
  },
  {
   "cell_type": "code",
   "execution_count": null,
   "metadata": {},
   "outputs": [
    {
     "ename": "TypeError",
     "evalue": "can't multiply sequence by non-int of type 'float'",
     "output_type": "error",
     "traceback": [
      "\u001b[0;31m---------------------------------------------------------------------------\u001b[0m",
      "\u001b[0;31mTypeError\u001b[0m                                 Traceback (most recent call last)",
      "Cell \u001b[0;32mIn[9], line 4\u001b[0m\n\u001b[1;32m      2\u001b[0m a \u001b[38;5;241m=\u001b[39m [\u001b[38;5;241m3\u001b[39m,\u001b[38;5;241m4\u001b[39m,\u001b[38;5;241m5\u001b[39m] \u001b[38;5;66;03m# as list\u001b[39;00m\n\u001b[1;32m      3\u001b[0m b \u001b[38;5;241m=\u001b[39m np\u001b[38;5;241m.\u001b[39marray(a) \u001b[38;5;66;03m# as np array\u001b[39;00m\n\u001b[0;32m----> 4\u001b[0m \u001b[38;5;28mprint\u001b[39m(\u001b[43ma\u001b[49m\u001b[38;5;241;43m*\u001b[39;49m\u001b[43ms\u001b[49m)\n\u001b[1;32m      5\u001b[0m \u001b[38;5;28mprint\u001b[39m(b\u001b[38;5;241m*\u001b[39ms)\n",
      "\u001b[0;31mTypeError\u001b[0m: can't multiply sequence by non-int of type 'float'"
     ]
    }
   ],
   "source": [
    "s = 2.0\n",
    "a = [3,4,5] # as list\n",
    "b = np.array(a) # as np array\n",
    "print(a*s)\n",
    "print(b*s)"
   ]
  },
  {
   "cell_type": "code",
   "execution_count": null,
   "metadata": {},
   "outputs": [
    {
     "data": {
      "text/plain": [
       "array([5, 8])"
      ]
     },
     "execution_count": 10,
     "metadata": {},
     "output_type": "execute_result"
    }
   ],
   "source": [
    "# scalar-vector addition\n",
    "s = 2\n",
    "v = np.array([3,6])\n",
    "s + v"
   ]
  },
  {
   "cell_type": "code",
   "execution_count": null,
   "metadata": {},
   "outputs": [
    {
     "data": {
      "text/plain": [
       "array([[11, 21],\n",
       "       [12, 22],\n",
       "       [13, 23]])"
      ]
     },
     "execution_count": 12,
     "metadata": {},
     "output_type": "execute_result"
    }
   ],
   "source": [
    "# vector broadcasting in python\n",
    "v = np.array([[1,2,3]]).T # col vector\n",
    "w = np.array([[10,20]]) # row vector\n",
    "v + w # addition with broadcasting"
   ]
  },
  {
   "cell_type": "code",
   "execution_count": null,
   "metadata": {},
   "outputs": [],
   "source": [
    "v = np.array([1,2,3,7,8,9])\n",
    "v_dim = len(v) # math dimensionality\n",
    "v_mag = np.linalg.norm(v) # math magnitude, length, or norm"
   ]
  },
  {
   "cell_type": "code",
   "execution_count": null,
   "metadata": {},
   "outputs": [
    {
     "data": {
      "text/plain": [
       "np.int64(70)"
      ]
     },
     "execution_count": 15,
     "metadata": {},
     "output_type": "execute_result"
    }
   ],
   "source": [
    "# dot product\n",
    "v = np.array([1,2,3,4])\n",
    "w = np.array([5,6,7,8])\n",
    "np.dot(v,w)"
   ]
  },
  {
   "cell_type": "code",
   "execution_count": null,
   "metadata": {},
   "outputs": [
    {
     "data": {
      "text/plain": [
       "np.int64(700)"
      ]
     },
     "execution_count": 16,
     "metadata": {},
     "output_type": "execute_result"
    }
   ],
   "source": [
    "s = 10\n",
    "np.dot(s*v,w)"
   ]
  },
  {
   "cell_type": "code",
   "execution_count": null,
   "metadata": {},
   "outputs": [],
   "source": [
    "a = np.array([0,1,2])\n",
    "b = np.array([3,5,8])\n",
    "c = np.array([13,21,34])\n",
    "\n",
    "# the dot product is distributive\n",
    "res1 = np.dot(a,b+c)\n",
    "res2 = np.dot(a,b) + np.dot(a,c)"
   ]
  },
  {
   "cell_type": "code",
   "execution_count": null,
   "metadata": {},
   "outputs": [
    {
     "data": {
      "text/plain": [
       "array([5., 0., 4., 2.])"
      ]
     },
     "execution_count": 18,
     "metadata": {},
     "output_type": "execute_result"
    }
   ],
   "source": [
    "# Hadamard (element-wise) multiplication\n",
    "a = np.array([5,4,8,2])\n",
    "b = np.array([1,0,.5,1])\n",
    "a*b"
   ]
  },
  {
   "cell_type": "markdown",
   "metadata": {},
   "source": [
    "Hadamard multiplication is a convenient way to organize multiple scalar multiplications. For example, imagine you have data on the number of widgets sold in different shops and the price per widget at each shop. You could represent each variable as a vector, and then Hadamard-multiply those vectors to compute the widget revenue per shop (this is different from the total revenue across all shops, which would be computed as the dot product)."
   ]
  },
  {
   "cell_type": "markdown",
   "metadata": {
    "vscode": {
     "languageId": "latex"
    }
   },
   "source": [
    "**Orthogonal vector Decomposition**\n",
    "\n",
    "To decompose a vector or matrix means to break up that matrix into multiple simpler pieces. Decompositions are used to reveal information that is hidden in a matrix, to make the matrix easier to work with, or for data compression. It is no understatement to write that much of linear algebra (in the abstract and in practice) involves matrix decompositions. Matrix decompositions are a big deal."
   ]
  },
  {
   "cell_type": "markdown",
   "metadata": {},
   "source": [
    "Project a point at the head of $\\mathbf{b}$ onto a vector $\\mathbf{a}$ with minimum distance, we need a formula to compute $\\beta$ such that the length of the projection vector $(\\mathbf{b}-\\beta{\\mathbf{a}})$ is minimized.\n",
    "\n",
    "We deduce that $(\\mathbf{b}-\\beta{\\mathbf{a}})$ is orthogonal to $\\beta{\\mathbf{a}}$, which means both vectors are perpendicular. And that means the dot between them is zero"
   ]
  },
  {
   "cell_type": "markdown",
   "metadata": {},
   "source": [
    "$\\mathbf{a^T}(\\mathbf{b}-\\beta{\\mathbf{a}}) = 0$"
   ]
  },
  {
   "cell_type": "markdown",
   "metadata": {},
   "source": [
    "Solving the orthogonal projection problem\n",
    "\n",
    "$\\mathbf{a^Tb} - \\beta\\mathbf{a^Ta} = 0 \\\\$\n",
    "    $\\hspace{1cm}\\beta\\mathbf{a^Ta} = \\mathbf{a^Tb}\\\\$\n",
    "    $\\hspace{2cm}\\beta = \\frac{\\mathbf{a^Tb}}{\\mathbf{a^Ta}}$\n"
   ]
  },
  {
   "cell_type": "markdown",
   "metadata": {},
   "source": [
    "the parallel component of $\\mathbf{b}$ with respect to $\\mathbf{a}$\n",
    "\n",
    "$\\mathbf{b}_{\\|\\mathbf{a}}=\\mathbf{a}\\frac{\\mathbf{b^T}\\mathbf{a}}{\\mathbf{a^T}\\mathbf{a}}$"
   ]
  },
  {
   "cell_type": "code",
   "execution_count": null,
   "metadata": {},
   "outputs": [
    {
     "name": "stdout",
     "output_type": "stream",
     "text": [
      "[[0.8]]\n"
     ]
    }
   ],
   "source": [
    "a = np.array([[1],[2]])\n",
    "\n",
    "b = np.array([[2],[1]])\n",
    "\n",
    "# @ is matrix multiplication operator.\n",
    "beta = (a.T @ b) @ np.linalg.inv(a.T @ a)\n",
    "print(beta)"
   ]
  },
  {
   "cell_type": "markdown",
   "metadata": {},
   "source": [
    "decompose vector $\\mathbf{t}$ into sum of two other vectors that are orthogonal and parallel to vector $\\mathbf{r}$"
   ]
  },
  {
   "cell_type": "markdown",
   "metadata": {},
   "source": [
    "Computing the parallel component of $\\mathbf{t}$ with respect to $\\mathbf{r}$\n",
    "\n",
    "$\\mathbf{t}_{\\|\\mathbf{r}}=\\mathbf{r}\\frac{\\mathbf{t^T}\\mathbf{r}}{\\mathbf{r^T}\\mathbf{r}}$\n",
    "\n",
    "Computing the perpendicular component by subtracting the parallel component from the original vector.\n",
    "\n",
    "$\\mathbf{t}=\\mathbf{t}_{\\perp\\mathbf{r}}+\\mathbf{t}_{\\|\\mathbf{r}}$\n",
    "\n",
    "$\\mathbf{t}_{\\perp\\mathbf{r}}=\\mathbf{t}-\\mathbf{t}_{\\|\\mathbf{r}}$"
   ]
  },
  {
   "cell_type": "markdown",
   "metadata": {},
   "source": [
    "To prove that the perpendicular component is orthogonal to the reference vector, we show that the dot product between them is zero:\n",
    "\n",
    "$(\\mathbf{t}_{\\perp\\mathbf{r}})^\\mathbf{T}\\mathbf{r}=0$\n",
    "\n",
    "$(\\mathbf{t}-\\mathbf{r}\\frac{\\mathbf{t^T}\\mathbf{r}}{\\mathbf{r^T}\\mathbf{r}})^\\mathbf{T}\\mathbf{r}=0$"
   ]
  },
  {
   "cell_type": "markdown",
   "metadata": {},
   "source": [
    "**Summary**\n",
    "\n",
    "- A vector is an ordered list of numbers that is placed in a column or in a row. The\n",
    "number of elements in a vector is called its dimensionality, and a vector can be\n",
    "represented as a line in a geometric space with the number of axes equal to the\n",
    "dimensionality.\n",
    "\n",
    "- Several arithmetic operations (addition, subtraction, and Hadamard multiplica‐\n",
    "tion) on vectors work element-wise.\n",
    "\n",
    "- The dot product is a single number that encodes the relationship between two\n",
    "vectors of the same dimensionality, and is computed as element-wise multiplica‐\n",
    "tion and sum.\n",
    "\n",
    "- The dot product is zero for vectors that are orthogonal, which geometrically\n",
    "means that the vectors meet at a right angle.\n",
    "\n",
    "- Orthogonal vector decomposition involves breaking up a vector into the sum\n",
    "of two other vectors that are orthogonal and parallel to a reference vector. The\n",
    "formula for this decomposition can be rederived from the geometry, but you\n",
    "should remember the phrase “mapping over magnitude” as the concept that that\n",
    "formula expresses."
   ]
  },
  {
   "cell_type": "markdown",
   "metadata": {},
   "source": []
  },
  {
   "cell_type": "code",
   "execution_count": 16,
   "metadata": {},
   "outputs": [],
   "source": [
    "import numpy as np\n",
    "import matplotlib.pyplot as plt\n",
    "\n",
    "v = np.array([[1],[2]])\n",
    "w = np.array([[1],[5]])\n",
    "\n",
    "\n"
   ]
  },
  {
   "cell_type": "code",
   "execution_count": null,
   "metadata": {},
   "outputs": [],
   "source": []
  }
 ],
 "metadata": {
  "kernelspec": {
   "display_name": "myenv",
   "language": "python",
   "name": "python3"
  },
  "language_info": {
   "codemirror_mode": {
    "name": "ipython",
    "version": 3
   },
   "file_extension": ".py",
   "mimetype": "text/x-python",
   "name": "python",
   "nbconvert_exporter": "python",
   "pygments_lexer": "ipython3",
   "version": "3.12.3"
  }
 },
 "nbformat": 4,
 "nbformat_minor": 2
}
