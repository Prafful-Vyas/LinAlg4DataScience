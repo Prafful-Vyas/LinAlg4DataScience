{
 "cells": [
  {
   "cell_type": "code",
   "execution_count": 1,
   "metadata": {},
   "outputs": [
    {
     "data": {
      "text/plain": [
       "9.6"
      ]
     },
     "execution_count": 1,
     "metadata": {},
     "output_type": "execute_result"
    }
   ],
   "source": [
    "4 + 5.6"
   ]
  },
  {
   "cell_type": "code",
   "execution_count": 2,
   "metadata": {},
   "outputs": [],
   "source": [
    "var1 = 10\n",
    "var2 = 20.4\n",
    "var3 = 'hello, my name is Mike'"
   ]
  },
  {
   "cell_type": "code",
   "execution_count": 3,
   "metadata": {},
   "outputs": [
    {
     "data": {
      "text/plain": [
       "30.4"
      ]
     },
     "execution_count": 3,
     "metadata": {},
     "output_type": "execute_result"
    }
   ],
   "source": [
    "var1 + var2"
   ]
  },
  {
   "cell_type": "code",
   "execution_count": 4,
   "metadata": {},
   "outputs": [
    {
     "ename": "TypeError",
     "evalue": "unsupported operand type(s) for +: 'int' and 'str'",
     "output_type": "error",
     "traceback": [
      "\u001b[0;31m---------------------------------------------------------------------------\u001b[0m",
      "\u001b[0;31mTypeError\u001b[0m                                 Traceback (most recent call last)",
      "Cell \u001b[0;32mIn[4], line 1\u001b[0m\n\u001b[0;32m----> 1\u001b[0m \u001b[43mvar1\u001b[49m\u001b[43m \u001b[49m\u001b[38;5;241;43m+\u001b[39;49m\u001b[43m \u001b[49m\u001b[43mvar3\u001b[49m\n",
      "\u001b[0;31mTypeError\u001b[0m: unsupported operand type(s) for +: 'int' and 'str'"
     ]
    }
   ],
   "source": [
    "var1 + var3"
   ]
  },
  {
   "cell_type": "code",
   "execution_count": 5,
   "metadata": {},
   "outputs": [],
   "source": [
    "list1 = [1,2,3]\n",
    "list2 = ['hello',123.2,[3,'qwerty']]"
   ]
  },
  {
   "cell_type": "code",
   "execution_count": 6,
   "metadata": {},
   "outputs": [
    {
     "data": {
      "text/plain": [
       "int"
      ]
     },
     "execution_count": 6,
     "metadata": {},
     "output_type": "execute_result"
    }
   ],
   "source": [
    "type(var1)"
   ]
  },
  {
   "cell_type": "code",
   "execution_count": 7,
   "metadata": {},
   "outputs": [
    {
     "data": {
      "text/plain": [
       "3"
      ]
     },
     "execution_count": 7,
     "metadata": {},
     "output_type": "execute_result"
    }
   ],
   "source": [
    "aList = [19,3,4]\n",
    "aList[1]"
   ]
  },
  {
   "cell_type": "markdown",
   "metadata": {},
   "source": [
    "Python is a 0-based indexing language, which means that index 0 is the first element (in above case, the number 19)"
   ]
  },
  {
   "cell_type": "code",
   "execution_count": 9,
   "metadata": {},
   "outputs": [
    {
     "data": {
      "text/plain": [
       "(4, 3)"
      ]
     },
     "execution_count": 9,
     "metadata": {},
     "output_type": "execute_result"
    }
   ],
   "source": [
    "aList[-1], aList[-2]"
   ]
  },
  {
   "cell_type": "markdown",
   "metadata": {},
   "source": [
    "- type() # returns the data type\n",
    "- print() # prints text information to the notebook\n",
    "- sum() # adds numbers together"
   ]
  },
  {
   "cell_type": "code",
   "execution_count": 12,
   "metadata": {},
   "outputs": [
    {
     "name": "stdout",
     "output_type": "stream",
     "text": [
      "30.4\n"
     ]
    }
   ],
   "source": [
    "dtype = type(var1)\n",
    "print(var1+var2)\n",
    "total = sum([1,3,5,4])"
   ]
  },
  {
   "cell_type": "code",
   "execution_count": 13,
   "metadata": {},
   "outputs": [
    {
     "name": "stdout",
     "output_type": "stream",
     "text": [
      "30.4\n"
     ]
    }
   ],
   "source": [
    "var1+var2\n",
    "total = var1+var2\n",
    "print(var1+var2)\n",
    "newvar = 10"
   ]
  },
  {
   "cell_type": "code",
   "execution_count": 14,
   "metadata": {},
   "outputs": [
    {
     "name": "stdout",
     "output_type": "stream",
     "text": [
      "['one', 'more']\n",
      "['one', 'more', 'time']\n"
     ]
    }
   ],
   "source": [
    "aSmallList = ['one','more']\n",
    "print(aSmallList)\n",
    "\n",
    "aSmallList.append('time')\n",
    "print(aSmallList)"
   ]
  },
  {
   "cell_type": "code",
   "execution_count": 15,
   "metadata": {},
   "outputs": [],
   "source": [
    "def add2numbers(n1,n2):\n",
    "    total = n1+n2\n",
    "    print(total)\n",
    "    return total"
   ]
  },
  {
   "cell_type": "code",
   "execution_count": 16,
   "metadata": {},
   "outputs": [
    {
     "name": "stdout",
     "output_type": "stream",
     "text": [
      "9\n",
      "9\n"
     ]
    }
   ],
   "source": [
    "s = add2numbers(4,5)\n",
    "print(s)"
   ]
  },
  {
   "cell_type": "code",
   "execution_count": 17,
   "metadata": {},
   "outputs": [
    {
     "name": "stdout",
     "output_type": "stream",
     "text": [
      "9\n",
      "10\n"
     ]
    }
   ],
   "source": [
    "s = add2numbers(4,5)\n",
    "print(s+1)"
   ]
  },
  {
   "cell_type": "code",
   "execution_count": 19,
   "metadata": {},
   "outputs": [],
   "source": [
    "import numpy as np"
   ]
  },
  {
   "cell_type": "code",
   "execution_count": 20,
   "metadata": {},
   "outputs": [],
   "source": [
    "average = np.mean([1,2,3])\n",
    "sorted1 = np.sort([2,1,3])\n",
    "theRank = np.linalg.matrix_rank([[1,2],[1,3]])"
   ]
  },
  {
   "cell_type": "code",
   "execution_count": 21,
   "metadata": {},
   "outputs": [],
   "source": [
    "vector = np.array([9,8,1,2])"
   ]
  },
  {
   "cell_type": "code",
   "execution_count": 22,
   "metadata": {},
   "outputs": [
    {
     "name": "stdout",
     "output_type": "stream",
     "text": [
      "[-4 -3 -2 -1  0  1  2  3  4]\n",
      "1\n"
     ]
    }
   ],
   "source": [
    "ary = np.arange(-4,5)\n",
    "print(ary)\n",
    "print(ary[5])"
   ]
  },
  {
   "cell_type": "markdown",
   "metadata": {},
   "source": [
    "Python often uses exclusive upper bounds, meaning that Python counts up to-but not including-the final number you specify."
   ]
  },
  {
   "cell_type": "code",
   "execution_count": 23,
   "metadata": {},
   "outputs": [
    {
     "data": {
      "text/plain": [
       "array([-4, -3, -2])"
      ]
     },
     "execution_count": 23,
     "metadata": {},
     "output_type": "execute_result"
    }
   ],
   "source": [
    "# Slicing\n",
    "# first three elements\n",
    "ary[0:3]"
   ]
  },
  {
   "cell_type": "code",
   "execution_count": 24,
   "metadata": {},
   "outputs": [
    {
     "data": {
      "text/plain": [
       "array([-4, -3, -2, -1,  0])"
      ]
     },
     "execution_count": 24,
     "metadata": {},
     "output_type": "execute_result"
    }
   ],
   "source": [
    "ary[0:5]"
   ]
  },
  {
   "cell_type": "code",
   "execution_count": 25,
   "metadata": {},
   "outputs": [
    {
     "data": {
      "text/plain": [
       "array([ 4,  3,  2,  1,  0, -1, -2, -3, -4])"
      ]
     },
     "execution_count": 25,
     "metadata": {},
     "output_type": "execute_result"
    }
   ],
   "source": [
    "ary[::-1]"
   ]
  },
  {
   "cell_type": "markdown",
   "metadata": {},
   "source": [
    "Need practice for slicing"
   ]
  },
  {
   "cell_type": "code",
   "execution_count": 27,
   "metadata": {},
   "outputs": [
    {
     "data": {
      "text/plain": [
       "Text(0.5, 1.0, 'The graph title')"
      ]
     },
     "execution_count": 27,
     "metadata": {},
     "output_type": "execute_result"
    },
    {
     "data": {
      "image/png": "[encoded data removed]",
      "text/plain": [
       "<Figure size 640x480 with 1 Axes>"
      ]
     },
     "metadata": {},
     "output_type": "display_data"
    }
   ],
   "source": [
    "import matplotlib.pyplot as plt\n",
    "\n",
    "plt.plot(1,2,'ko') # 1) plot a black circle\n",
    "plt.plot([0,2],[0,4],'r--') # 2) plot a line\n",
    "plt.xlim([-4,4]) # 3) set the x-axis limits\n",
    "plt.ylim([-4,4]) # 4) set the y-axis limits\n",
    "plt.title('The graph title') # 5) graph title"
   ]
  },
  {
   "cell_type": "markdown",
   "metadata": {},
   "source": [
    "A subplot is a way of dividing the graphics area (called the figure) into a grid of separate axes into which you can draw different visualizations."
   ]
  },
  {
   "cell_type": "code",
   "execution_count": 28,
   "metadata": {},
   "outputs": [
    {
     "data": {
      "text/plain": [
       "<matplotlib.image.AxesImage at 0x7f17753a7e00>"
      ]
     },
     "execution_count": 28,
     "metadata": {},
     "output_type": "execute_result"
    },
    {
     "data": {
      "image/png": "[encoded data removed]",
      "text/plain": [
       "<Figure size 800x500 with 2 Axes>"
      ]
     },
     "metadata": {},
     "output_type": "display_data"
    }
   ],
   "source": [
    "_,axs = plt.subplots(1,2,figsize=(8,5)) # 1) create subplots\n",
    "axs[0].plot(np.random.randn(10,5)) # 2) line plot on the left\n",
    "axs[1].imshow(np.random.randn(10,5)) # 3) image on the right"
   ]
  },
  {
   "cell_type": "markdown",
   "metadata": {},
   "source": [
    "**code line 1**\n",
    "- first two inputs to plt.subplots specify the grid geometry-in this case, a 1 * 2 matrix of subplots, which means one row & two columns, which means two plots next to each other.\n",
    "- two elements in that tuple corresponding to width and height in inches, sizes are always listed as width,height (WH = White House)\n",
    "- plt.subplots provide two outputs, first is a handle to the entire figure, which we don't need, so I used an underscore in lieu of a variable name. The second output is a np array that contains handles to each axis. A handle is a special type of variable that points to an object in the figure.\n",
    "\n",
    "**code line 2**\n",
    "- The two new concepts are plotting to the specific axis instead of the entire figure (using plt.) and inputting a matrix instead of individual numbers. Python creates a separate line for each column of the matrix, which is why you see five lines.\n",
    "\n",
    "**code line 3**\n",
    "- code line 3 shows how to create an image. Matrices are often visualized as images. The color of each little block is mapped onto a numerical value in the matrix."
   ]
  },
  {
   "cell_type": "markdown",
   "metadata": {},
   "source": [
    "**Translating mathematical equations into python code**"
   ]
  },
  {
   "cell_type": "code",
   "execution_count": 30,
   "metadata": {},
   "outputs": [
    {
     "data": {
      "text/plain": [
       "[<matplotlib.lines.Line2D at 0x7f1772eb7bf0>]"
      ]
     },
     "execution_count": 30,
     "metadata": {},
     "output_type": "execute_result"
    },
    {
     "data": {
      "image/png": "[encoded data removed]",
      "text/plain": [
       "<Figure size 640x480 with 1 Axes>"
      ]
     },
     "metadata": {},
     "output_type": "display_data"
    }
   ],
   "source": [
    "\n",
    "x = np.arange(-4,5)\n",
    "y = x**2\n",
    "\n",
    "plt.plot(x,y,'s-')\n"
   ]
  },
  {
   "cell_type": "code",
   "execution_count": 31,
   "metadata": {},
   "outputs": [
    {
     "data": {
      "text/plain": [
       "[<matplotlib.lines.Line2D at 0x7f1772f80590>]"
      ]
     },
     "execution_count": 31,
     "metadata": {},
     "output_type": "execute_result"
    },
    {
     "data": {
      "image/png": "[encoded data removed]",
      "text/plain": [
       "<Figure size 640x480 with 1 Axes>"
      ]
     },
     "metadata": {},
     "output_type": "display_data"
    }
   ],
   "source": [
    "# making smoother curve by including more points (42 points)\n",
    "# np.linspace outputs a vector that ends at 4.\n",
    "# This function has inclusive bounds.\n",
    "x = np.linspace(-4,4,42)\n",
    "y = x**2\n",
    "plt.plot(x,y,'s-')"
   ]
  },
  {
   "cell_type": "markdown",
   "metadata": {},
   "source": [
    "- **soft coding** - creating variables for parameters that you might want to change later\n",
    "- **hard coding** - the parameter values are directly implemented in the function"
   ]
  },
  {
   "cell_type": "code",
   "execution_count": 32,
   "metadata": {},
   "outputs": [
    {
     "data": {
      "text/plain": [
       "[<matplotlib.lines.Line2D at 0x7f17730dc530>]"
      ]
     },
     "execution_count": 32,
     "metadata": {},
     "output_type": "execute_result"
    },
    {
     "data": {
      "image/png": "[encoded data removed]",
      "text/plain": [
       "<Figure size 640x480 with 1 Axes>"
      ]
     },
     "metadata": {},
     "output_type": "display_data"
    }
   ],
   "source": [
    "# sigmoid function - nonlinear activation function\n",
    "x = np.linspace(-4,4,42)\n",
    "alpha = 1.4\n",
    "beta = 2\n",
    "\n",
    "num = alpha # numerator\n",
    "den = 1 + np.exp(-beta*x) # denominator\n",
    "fx = num / den\n",
    "plt.plot(x,fx,'s-')"
   ]
  },
  {
   "cell_type": "code",
   "execution_count": 33,
   "metadata": {},
   "outputs": [
    {
     "name": "stdout",
     "output_type": "stream",
     "text": [
      "The variable value is 10.54,which makes me happy.\n"
     ]
    }
   ],
   "source": [
    "# F-strings\n",
    "var1 = 10.54\n",
    "print(f\"The variable value is {var1},which makes me happy.\")"
   ]
  },
  {
   "cell_type": "code",
   "execution_count": 34,
   "metadata": {},
   "outputs": [
    {
     "name": "stdout",
     "output_type": "stream",
     "text": [
      "Mike eats 700 grams of chocolate each day.\n"
     ]
    }
   ],
   "source": [
    "theList = ['Mike',7]\n",
    "print(f\"{theList[0]} eats {theList[1]*100} grams of chocolate each day.\")"
   ]
  },
  {
   "cell_type": "code",
   "execution_count": 35,
   "metadata": {},
   "outputs": [
    {
     "name": "stdout",
     "output_type": "stream",
     "text": [
      "3.142857142857143,3.143\n"
     ]
    }
   ],
   "source": [
    "pi = 22/7\n",
    "print(f'{pi},{pi:.3f}')"
   ]
  },
  {
   "cell_type": "code",
   "execution_count": 36,
   "metadata": {},
   "outputs": [
    {
     "name": "stdout",
     "output_type": "stream",
     "text": [
      "True\n",
      "False\n",
      "False\n"
     ]
    }
   ],
   "source": [
    "print(4<5)\n",
    "print(4>5)\n",
    "print(4==5)"
   ]
  },
  {
   "cell_type": "code",
   "execution_count": 37,
   "metadata": {},
   "outputs": [
    {
     "name": "stdout",
     "output_type": "stream",
     "text": [
      "4 equals 4!\n",
      "I'm outside the +for+ loop\n"
     ]
    }
   ],
   "source": [
    "var = 4\n",
    "if var == 4:\n",
    "    print(f'{var} equals 4!')\n",
    "\n",
    "print(\"I'm outside the +for+ loop\")"
   ]
  },
  {
   "cell_type": "code",
   "execution_count": 38,
   "metadata": {},
   "outputs": [
    {
     "name": "stdout",
     "output_type": "stream",
     "text": [
      "I'm outside the +for+ loop.\n"
     ]
    }
   ],
   "source": [
    "var = 4\n",
    "if var == 5:\n",
    "    print(f'{var} equals 5!')\n",
    "\n",
    "print(\"I'm outside the +for+ loop.\")"
   ]
  },
  {
   "cell_type": "code",
   "execution_count": 39,
   "metadata": {},
   "outputs": [
    {
     "name": "stdout",
     "output_type": "stream",
     "text": [
      "var < 5\n",
      "Outside the if-elif-else\n"
     ]
    }
   ],
   "source": [
    "var = 4\n",
    "\n",
    "if var==5:\n",
    "    print('var is 5')\n",
    "elif var>5:\n",
    "    print('var > 5')\n",
    "else:\n",
    "    print('var < 5')\n",
    "\n",
    "print('Outside the if-elif-else')"
   ]
  },
  {
   "cell_type": "code",
   "execution_count": 40,
   "metadata": {},
   "outputs": [
    {
     "name": "stdout",
     "output_type": "stream",
     "text": [
      "Code example 1.\n",
      "Code example 3.\n"
     ]
    }
   ],
   "source": [
    "if 4==4 and 4<10:\n",
    "    print('Code example 1.')\n",
    "\n",
    "if 4==5 and 4<10:\n",
    "    print('Code example 2.')\n",
    "\n",
    "if 4==5 or 4<10:\n",
    "    print('Code example 3.')"
   ]
  },
  {
   "cell_type": "code",
   "execution_count": 41,
   "metadata": {},
   "outputs": [
    {
     "name": "stdout",
     "output_type": "stream",
     "text": [
      "1\n",
      "2\n",
      "3\n"
     ]
    }
   ],
   "source": [
    "print(1)\n",
    "print(2)\n",
    "print(3)"
   ]
  },
  {
   "cell_type": "code",
   "execution_count": 42,
   "metadata": {},
   "outputs": [
    {
     "name": "stdout",
     "output_type": "stream",
     "text": [
      "1\n",
      "2\n",
      "3\n",
      "4\n",
      "5\n",
      "6\n",
      "7\n",
      "8\n",
      "9\n",
      "10\n"
     ]
    }
   ],
   "source": [
    "for i in range(0,10):\n",
    "    print(i+1)"
   ]
  },
  {
   "cell_type": "code",
   "execution_count": 43,
   "metadata": {},
   "outputs": [
    {
     "name": "stdout",
     "output_type": "stream",
     "text": [
      "2\n",
      "hello\n",
      "[0.         0.07692308 0.15384615 0.23076923 0.30769231 0.38461538\n",
      " 0.46153846 0.53846154 0.61538462 0.69230769 0.76923077 0.84615385\n",
      " 0.92307692 1.        ]\n"
     ]
    }
   ],
   "source": [
    "theList = [2,'hello',np.linspace(0,1,14)]\n",
    "for item in theList:\n",
    "    print(item)"
   ]
  },
  {
   "cell_type": "code",
   "execution_count": 44,
   "metadata": {},
   "outputs": [
    {
     "name": "stdout",
     "output_type": "stream",
     "text": [
      "2 is an even number\n",
      "4 is an even number\n",
      "6 is an even number\n",
      "8 is an even number\n",
      "[0, 0, 0, 0, 0, 25, 36, 49, 64, 81]\n"
     ]
    }
   ],
   "source": [
    "powers = [0]*10\n",
    "\n",
    "for i in range(len(powers)):\n",
    "    if i%2==0 and i>0:\n",
    "        print(f'{i} is an even number')\n",
    "\n",
    "    if i>4:\n",
    "        powers[i] = i**2\n",
    "print(powers)"
   ]
  },
  {
   "cell_type": "code",
   "execution_count": 50,
   "metadata": {},
   "outputs": [
    {
     "name": "stdout",
     "output_type": "stream",
     "text": [
      "0.046253204345703125 ms\n"
     ]
    }
   ],
   "source": [
    "# measuring computation time\n",
    "import time\n",
    "clockStart = time.time()\n",
    "# some code here...\n",
    "compTime = time.time() - clockStart\n",
    "print(f\"{compTime*1000}\"+\" ms\")"
   ]
  },
  {
   "cell_type": "code",
   "execution_count": null,
   "metadata": {},
   "outputs": [],
   "source": []
  }
 ],
 "metadata": {
  "kernelspec": {
   "display_name": "myenv",
   "language": "python",
   "name": "python3"
  },
  "language_info": {
   "codemirror_mode": {
    "name": "ipython",
    "version": 3
   },
   "file_extension": ".py",
   "mimetype": "text/x-python",
   "name": "python",
   "nbconvert_exporter": "python",
   "pygments_lexer": "ipython3",
   "version": "3.12.3"
  }
 },
 "nbformat": 4,
 "nbformat_minor": 2
}
